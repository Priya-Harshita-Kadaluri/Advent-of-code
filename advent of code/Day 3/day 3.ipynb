{
 "cells": [
  {
   "cell_type": "code",
   "execution_count": 6,
   "id": "65bcf0fb-de2f-4429-9835-d713633a5d31",
   "metadata": {
    "scrolled": true
   },
   "outputs": [
    {
     "name": "stdout",
     "output_type": "stream",
     "text": [
      "546563 91031374\n"
     ]
    }
   ],
   "source": [
    "import math as m, re\n",
    "\n",
    "board = list(open('data.txt'))\n",
    "chars = {(r, c): [] for r in range(140) for c in range(140)\n",
    "                    if board[r][c] not in '01234566789.'}\n",
    "\n",
    "for r, row in enumerate(board):\n",
    "    for a in re.finditer(r'\\d+', row):\n",
    "        edge = {(r, c) for r in (r-1, r, r+1)\n",
    "                       for c in range(a.start()-1, a.end()+1)}\n",
    "\n",
    "        for o in edge & chars.keys():\n",
    "            chars[o].append(int(a.group()))\n",
    "\n",
    "print(sum(sum(p)    for p in chars.values()),\n",
    "      sum(m.prod(p) for p in chars.values() if len(p)==2))"
   ]
  },
  {
   "cell_type": "code",
   "execution_count": null,
   "id": "073f7f09-34d3-4b28-a858-06598a0eb966",
   "metadata": {},
   "outputs": [],
   "source": []
  }
 ],
 "metadata": {
  "kernelspec": {
   "display_name": "Python 3 (ipykernel)",
   "language": "python",
   "name": "python3"
  },
  "language_info": {
   "codemirror_mode": {
    "name": "ipython",
    "version": 3
   },
   "file_extension": ".py",
   "mimetype": "text/x-python",
   "name": "python",
   "nbconvert_exporter": "python",
   "pygments_lexer": "ipython3",
   "version": "3.10.11"
  }
 },
 "nbformat": 4,
 "nbformat_minor": 5
}
