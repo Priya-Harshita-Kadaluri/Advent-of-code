{
 "cells": [
  {
   "cell_type": "code",
   "execution_count": 3,
   "id": "65bcf0fb-de2f-4429-9835-d713633a5d31",
   "metadata": {
    "scrolled": true
   },
   "outputs": [
    {
     "name": "stdout",
     "output_type": "stream",
     "text": [
      "55260\n"
     ]
    }
   ],
   "source": [
    "import re\n",
    "values = []\n",
    "with open(\"input.txt\") as file:\n",
    "    for line in file:\n",
    "        values.append(line.rstrip())\n",
    "sum = 0\n",
    "replacements_dictionary = {'one' : 'on1e', 'two' : 'tw2o', 'three' : 'thr3e','four': 'fo4ur', 'five':'fi5ve','six': 'si6x','seven': 'sev7en','eight' : \n",
    "'ei8ght','nine':'ni9ne'}\n",
    "for line in values:\n",
    "    for key,value in replacements_dictionary.items():\n",
    "        line = line.replace(key, value)\n",
    "    digits_only = re.sub('\\D','',line)\n",
    "    sum += int(digits_only[0] + digits_only[-1])\n",
    "print(sum)"
   ]
  },
  {
   "cell_type": "code",
   "execution_count": null,
   "id": "39b35671-3796-416f-8787-45c64254f4e2",
   "metadata": {},
   "outputs": [],
   "source": []
  },
  {
   "cell_type": "code",
   "execution_count": null,
   "id": "702ec0f9-a671-434b-9788-9d635e43779f",
   "metadata": {},
   "outputs": [],
   "source": []
  },
  {
   "cell_type": "code",
   "execution_count": null,
   "id": "2dfb46fc-ef9e-42a5-a72e-55efec0f69dd",
   "metadata": {},
   "outputs": [],
   "source": []
  }
 ],
 "metadata": {
  "kernelspec": {
   "display_name": "Python 3 (ipykernel)",
   "language": "python",
   "name": "python3"
  },
  "language_info": {
   "codemirror_mode": {
    "name": "ipython",
    "version": 3
   },
   "file_extension": ".py",
   "mimetype": "text/x-python",
   "name": "python",
   "nbconvert_exporter": "python",
   "pygments_lexer": "ipython3",
   "version": "3.10.11"
  }
 },
 "nbformat": 4,
 "nbformat_minor": 5
}
