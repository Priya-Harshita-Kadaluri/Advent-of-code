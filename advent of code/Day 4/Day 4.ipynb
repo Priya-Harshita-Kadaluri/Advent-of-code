{
 "cells": [
  {
   "cell_type": "code",
   "execution_count": 7,
   "id": "65bcf0fb-de2f-4429-9835-d713633a5d31",
   "metadata": {
    "scrolled": true
   },
   "outputs": [
    {
     "name": "stdout",
     "output_type": "stream",
     "text": [
      "201 17\n"
     ]
    }
   ],
   "source": [
    "import re\n",
    "\n",
    "answer1 = 0\n",
    "answer2 = 0\n",
    "\n",
    "with open('input.txt') as f:\n",
    "    txt = f.read()\n",
    "\n",
    "for l in txt.split('\\n'):\n",
    "    nums = list(map(int, re.findall('\\d+', l)))\n",
    "\n",
    "    s1 = set(range(nums[0], nums[1]+1))\n",
    "    s2 = set(range(nums[2], nums[3]+1))\n",
    "\n",
    "    if s1 <= s2 or s2 <= s1:\n",
    "        answer1 += 1\n",
    "\n",
    "    if s1 & s2:\n",
    "        answer2 += 1\n",
    "\n",
    "print(answer1, answer2)"
   ]
  },
  {
   "cell_type": "code",
   "execution_count": null,
   "id": "50c83cc1-1cda-4a1a-80cf-d8c032609dc0",
   "metadata": {},
   "outputs": [],
   "source": []
  }
 ],
 "metadata": {
  "kernelspec": {
   "display_name": "Python 3 (ipykernel)",
   "language": "python",
   "name": "python3"
  },
  "language_info": {
   "codemirror_mode": {
    "name": "ipython",
    "version": 3
   },
   "file_extension": ".py",
   "mimetype": "text/x-python",
   "name": "python",
   "nbconvert_exporter": "python",
   "pygments_lexer": "ipython3",
   "version": "3.10.11"
  }
 },
 "nbformat": 4,
 "nbformat_minor": 5
}
