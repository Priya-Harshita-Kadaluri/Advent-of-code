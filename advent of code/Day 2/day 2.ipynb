{
 "cells": [
  {
   "cell_type": "code",
   "execution_count": 12,
   "id": "65bcf0fb-de2f-4429-9835-d713633a5d31",
   "metadata": {
    "scrolled": true
   },
   "outputs": [
    {
     "name": "stdout",
     "output_type": "stream",
     "text": [
      "2076\n",
      "70950\n"
     ]
    },
    {
     "data": {
      "text/plain": [
       "(None, None)"
      ]
     },
     "execution_count": 12,
     "metadata": {},
     "output_type": "execute_result"
    }
   ],
   "source": [
    "from collections import Counter\n",
    "from functools import reduce\n",
    "from operator import mul, or_\n",
    "\n",
    "thres = Counter({\"red\":12, \"green\":13, \"blue\":14})\n",
    "\n",
    "total1 = 0\n",
    "total2 = 0\n",
    "with open(\"input.txt\", \"r\") as a:\n",
    "    for game in a:\n",
    "        gid, draws = game.strip().split(\": \")\n",
    "        gid = int(gid.split(\" \")[1])\n",
    "        draws = [[c.split(\" \") for c in d.split(\", \")] for d in draws.split(\"; \")]\n",
    "        draws = [Counter({c[1]:int(c[0]) for c in d}) for d in draws]\n",
    "        total1 += all(d<=thres for d in draws) * gid\n",
    "        total2 += reduce(mul, reduce(or_, draws).values())\n",
    "        \n",
    "\n",
    "print(total1), print(total2)"
   ]
  },
  {
   "cell_type": "code",
   "execution_count": null,
   "id": "39b35671-3796-416f-8787-45c64254f4e2",
   "metadata": {},
   "outputs": [],
   "source": []
  },
  {
   "cell_type": "code",
   "execution_count": null,
   "id": "702ec0f9-a671-434b-9788-9d635e43779f",
   "metadata": {},
   "outputs": [],
   "source": []
  },
  {
   "cell_type": "code",
   "execution_count": null,
   "id": "2dfb46fc-ef9e-42a5-a72e-55efec0f69dd",
   "metadata": {},
   "outputs": [],
   "source": []
  }
 ],
 "metadata": {
  "kernelspec": {
   "display_name": "Python 3 (ipykernel)",
   "language": "python",
   "name": "python3"
  },
  "language_info": {
   "codemirror_mode": {
    "name": "ipython",
    "version": 3
   },
   "file_extension": ".py",
   "mimetype": "text/x-python",
   "name": "python",
   "nbconvert_exporter": "python",
   "pygments_lexer": "ipython3",
   "version": "3.10.11"
  }
 },
 "nbformat": 4,
 "nbformat_minor": 5
}
